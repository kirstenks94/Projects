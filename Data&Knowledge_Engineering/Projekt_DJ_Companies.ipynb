{
 "cells": [
  {
   "cell_type": "markdown",
   "metadata": {},
   "source": [
    "## Projektarbeit"
   ]
  },
  {
   "cell_type": "markdown",
   "metadata": {},
   "source": [
    "### 6099 - Data and Knowledge Engineering"
   ]
  },
  {
   "cell_type": "markdown",
   "metadata": {},
   "source": [
    "Name = Kerstin Scharinger\n",
    "\n",
    "Matrikelnummer = 11813383"
   ]
  },
  {
   "cell_type": "markdown",
   "metadata": {},
   "source": [
    "#### Inhaltsverzeichnis\n",
    "1. [Ziel](#Ziel)\n",
    "2. [Data Set 1 - SimFin](#DataSet1-Simfin)\n",
    "    2.1. [Companies in US](#CompaniesinUS)\n",
    "    2.2. [Industrie](#Industrie)\n",
    "3. [Data Set 2 - DBPedia](#DataSet2-DBPedia)\n",
    "4. [Datenverknüpfung über Namen](#DatenverknüpfungüberNamen)\n",
    "5. [Verknüpfung über Ticker](#VerknüpfungüberTicker)\n",
    "6. [Conclusion](#Conclusion)\n"
   ]
  },
  {
   "cell_type": "markdown",
   "metadata": {},
   "source": [
    "### Ziel:  <a name=\"Ziel\"></a>\n",
    "\n",
    "Ziel dieser Arbeit ist es Daten zu US Unternehmen, welche im Dow Jones Industrial Average Index gelistet sind,\n",
    "    verfügbar zu machen. Dazu werden zwei Quellen verwendet:\n",
    "    \n",
    "- Simfin: https://simfin.com/\n",
    "        Stammdaten zu US Unternehmen\n",
    "\n",
    "- DBPedia: http://dbpedia.org\n",
    "        Liste der Namen der Unternehmen welche im Dow Jones Idustrial Average Index gelistet sind\n",
    "\n",
    "Die Daten werden mittels Python API bzw. Sparql Endpoint abgefragt und in Datenbank Tabellen gespeichert.\n",
    "\n",
    "Die Verknüpfung erfolgt über den Namen bzw. das Kürzel der Unternehmen."
   ]
  },
  {
   "cell_type": "markdown",
   "metadata": {},
   "source": [
    "### 2. Data Set 1 - Simfin <a name=\"DataSet1-Simfin\"></a>"
   ]
  },
  {
   "cell_type": "markdown",
   "metadata": {},
   "source": [
    "Das erste Data Set wird über eine Pythen API abgefragt. \n",
    "Informationen zur API können auf der Homepage von simfin gefunden werden: https://simfin.com/data/api\n",
    "\n",
    "Ohne Registrierung auf den Homepage können pro Tag 2.000 Abfragen ausgeführt werden, mit einer Registrierung\n",
    "steht auch ein unlimitierter Datenzugriff zur Verfügung."
   ]
  },
  {
   "cell_type": "code",
   "execution_count": 1,
   "metadata": {},
   "outputs": [],
   "source": [
    "#Sollte simfin noch nicht installiert sein, muss dieses vorher durchgeführt werden:\n",
    "#pip install simfin"
   ]
  },
  {
   "cell_type": "code",
   "execution_count": 2,
   "metadata": {},
   "outputs": [],
   "source": [
    "#Verwendete Packages\n",
    "import simfin as sf\n",
    "import requests\n",
    "import sqlite3 \n",
    "import pandas"
   ]
  },
  {
   "cell_type": "markdown",
   "metadata": {},
   "source": [
    "#### 2.1 Companies in US <a name=\"CompaniesinUS\"></a>"
   ]
  },
  {
   "cell_type": "code",
   "execution_count": 3,
   "metadata": {},
   "outputs": [
    {
     "name": "stdout",
     "output_type": "stream",
     "text": [
      "Dataset \"us-companies\" on disk (18 days old).\n",
      "- Loading from disk ... Done!\n"
     ]
    }
   ],
   "source": [
    "import simfin as sf\n",
    "\n",
    "# Der API key free downloadet die frei verfügbaren Daten\n",
    "sf.set_api_key('free')\n",
    "\n",
    "# Lokales repository wo die Daten gespeichert werden.\n",
    "# Es wird ein neues angelegt, wenn noch keines vorhanden ist.\n",
    "sf.set_data_dir('~/simfin_data/')\n",
    "\n",
    "# Download der Daten vom SimFin Server und laden in Pandas DataFrame.\n",
    "df_us = sf.load_companies(market='us', index = None)"
   ]
  },
  {
   "cell_type": "code",
   "execution_count": 4,
   "metadata": {},
   "outputs": [
    {
     "data": {
      "text/html": [
       "<div>\n",
       "<style scoped>\n",
       "    .dataframe tbody tr th:only-of-type {\n",
       "        vertical-align: middle;\n",
       "    }\n",
       "\n",
       "    .dataframe tbody tr th {\n",
       "        vertical-align: top;\n",
       "    }\n",
       "\n",
       "    .dataframe thead th {\n",
       "        text-align: right;\n",
       "    }\n",
       "</style>\n",
       "<table border=\"1\" class=\"dataframe\">\n",
       "  <thead>\n",
       "    <tr style=\"text-align: right;\">\n",
       "      <th></th>\n",
       "      <th>Ticker</th>\n",
       "      <th>SimFinId</th>\n",
       "      <th>Company Name</th>\n",
       "      <th>IndustryId</th>\n",
       "    </tr>\n",
       "  </thead>\n",
       "  <tbody>\n",
       "    <tr>\n",
       "      <th>0</th>\n",
       "      <td>FOX_old</td>\n",
       "      <td>242</td>\n",
       "      <td>21st Century Fox</td>\n",
       "      <td>103001.0</td>\n",
       "    </tr>\n",
       "    <tr>\n",
       "      <th>1</th>\n",
       "      <td>ACAT</td>\n",
       "      <td>33956</td>\n",
       "      <td>ARCTIC CAT INC</td>\n",
       "      <td>103005.0</td>\n",
       "    </tr>\n",
       "    <tr>\n",
       "      <th>2</th>\n",
       "      <td>APIC</td>\n",
       "      <td>34899</td>\n",
       "      <td>Apigee Corp</td>\n",
       "      <td>101003.0</td>\n",
       "    </tr>\n",
       "    <tr>\n",
       "      <th>3</th>\n",
       "      <td>LABL</td>\n",
       "      <td>35331</td>\n",
       "      <td>MULTI COLOR Corp</td>\n",
       "      <td>100002.0</td>\n",
       "    </tr>\n",
       "    <tr>\n",
       "      <th>4</th>\n",
       "      <td>JOY</td>\n",
       "      <td>39382</td>\n",
       "      <td>JOY GLOBAL INC</td>\n",
       "      <td>100009.0</td>\n",
       "    </tr>\n",
       "    <tr>\n",
       "      <th>...</th>\n",
       "      <td>...</td>\n",
       "      <td>...</td>\n",
       "      <td>...</td>\n",
       "      <td>...</td>\n",
       "    </tr>\n",
       "    <tr>\n",
       "      <th>2115</th>\n",
       "      <td>GHC</td>\n",
       "      <td>716648</td>\n",
       "      <td>Graham Holdings Co</td>\n",
       "      <td>102006.0</td>\n",
       "    </tr>\n",
       "    <tr>\n",
       "      <th>2116</th>\n",
       "      <td>DDD</td>\n",
       "      <td>545133</td>\n",
       "      <td>3D SYSTEMS CORP</td>\n",
       "      <td>101001.0</td>\n",
       "    </tr>\n",
       "    <tr>\n",
       "      <th>2117</th>\n",
       "      <td>WYND</td>\n",
       "      <td>116466</td>\n",
       "      <td>WYNDHAM DESTINATIONS, INC.</td>\n",
       "      <td>103015.0</td>\n",
       "    </tr>\n",
       "    <tr>\n",
       "      <th>2118</th>\n",
       "      <td>ETN</td>\n",
       "      <td>124922</td>\n",
       "      <td>Eaton Corp plc</td>\n",
       "      <td>100001.0</td>\n",
       "    </tr>\n",
       "    <tr>\n",
       "      <th>2119</th>\n",
       "      <td>OKE</td>\n",
       "      <td>334076</td>\n",
       "      <td>ONEOK INC /NEW/</td>\n",
       "      <td>107003.0</td>\n",
       "    </tr>\n",
       "  </tbody>\n",
       "</table>\n",
       "<p>2120 rows × 4 columns</p>\n",
       "</div>"
      ],
      "text/plain": [
       "       Ticker  SimFinId                Company Name  IndustryId\n",
       "0     FOX_old       242            21st Century Fox    103001.0\n",
       "1        ACAT     33956              ARCTIC CAT INC    103005.0\n",
       "2        APIC     34899                 Apigee Corp    101003.0\n",
       "3        LABL     35331            MULTI COLOR Corp    100002.0\n",
       "4         JOY     39382              JOY GLOBAL INC    100009.0\n",
       "...       ...       ...                         ...         ...\n",
       "2115      GHC    716648          Graham Holdings Co    102006.0\n",
       "2116      DDD    545133             3D SYSTEMS CORP    101001.0\n",
       "2117     WYND    116466  WYNDHAM DESTINATIONS, INC.    103015.0\n",
       "2118      ETN    124922              Eaton Corp plc    100001.0\n",
       "2119      OKE    334076             ONEOK INC /NEW/    107003.0\n",
       "\n",
       "[2120 rows x 4 columns]"
      ]
     },
     "execution_count": 4,
     "metadata": {},
     "output_type": "execute_result"
    }
   ],
   "source": [
    "df_us"
   ]
  },
  {
   "cell_type": "markdown",
   "metadata": {},
   "source": [
    "SQLite Datenbank laden und Pandas DataFrame in Datenbank Tabelle speichern"
   ]
  },
  {
   "cell_type": "code",
   "execution_count": 5,
   "metadata": {},
   "outputs": [],
   "source": [
    "%load_ext sql"
   ]
  },
  {
   "cell_type": "code",
   "execution_count": 6,
   "metadata": {},
   "outputs": [
    {
     "data": {
      "text/plain": [
       "'Connected: @companies.db'"
      ]
     },
     "execution_count": 6,
     "metadata": {},
     "output_type": "execute_result"
    }
   ],
   "source": [
    "#Verbindung zur Companies Datenbank herstellen\n",
    "%sql sqlite:///companies.db"
   ]
  },
  {
   "cell_type": "code",
   "execution_count": 7,
   "metadata": {},
   "outputs": [
    {
     "name": "stdout",
     "output_type": "stream",
     "text": [
      " * sqlite:///companies.db\n",
      "Done.\n"
     ]
    },
    {
     "data": {
      "text/plain": [
       "[]"
      ]
     },
     "execution_count": 7,
     "metadata": {},
     "output_type": "execute_result"
    }
   ],
   "source": [
    "%%sql\n",
    "\n",
    "PRAGMA foreign_keys = ON;"
   ]
  },
  {
   "cell_type": "code",
   "execution_count": 8,
   "metadata": {},
   "outputs": [],
   "source": [
    "conn = sqlite3.connect('companies.db')"
   ]
  },
  {
   "cell_type": "code",
   "execution_count": 9,
   "metadata": {},
   "outputs": [],
   "source": [
    "df_us=df_us.rename(columns = {'Company Name':'Name'})\n",
    "df_us['Ticker']= df_us['Ticker'].astype('str')\n",
    "df_us['SimFinId']= df_us['SimFinId'].astype('int')\n",
    "df_us['Name']= df_us['Name'].astype('str')\n",
    "df_us['IndustryId']= df_us['IndustryId'].astype('str').str.split('.',1,expand = True)"
   ]
  },
  {
   "cell_type": "code",
   "execution_count": 10,
   "metadata": {},
   "outputs": [],
   "source": [
    "#Pandas DataFrame als Datenbank Tabelle us_companies anlegen\n",
    "df_us.to_sql('us_companies', conn, index=False, if_exists='replace')"
   ]
  },
  {
   "cell_type": "code",
   "execution_count": 11,
   "metadata": {},
   "outputs": [
    {
     "name": "stdout",
     "output_type": "stream",
     "text": [
      " * sqlite:///companies.db\n",
      "Done.\n"
     ]
    },
    {
     "data": {
      "text/html": [
       "<table>\n",
       "    <tr>\n",
       "        <th>Ticker</th>\n",
       "        <th>SimFinId</th>\n",
       "        <th>Name</th>\n",
       "        <th>IndustryId</th>\n",
       "    </tr>\n",
       "    <tr>\n",
       "        <td>FOX_old</td>\n",
       "        <td>242</td>\n",
       "        <td>21st Century Fox</td>\n",
       "        <td>103001</td>\n",
       "    </tr>\n",
       "    <tr>\n",
       "        <td>ACAT</td>\n",
       "        <td>33956</td>\n",
       "        <td>ARCTIC CAT INC</td>\n",
       "        <td>103005</td>\n",
       "    </tr>\n",
       "    <tr>\n",
       "        <td>APIC</td>\n",
       "        <td>34899</td>\n",
       "        <td>Apigee Corp</td>\n",
       "        <td>101003</td>\n",
       "    </tr>\n",
       "</table>"
      ],
      "text/plain": [
       "[('FOX_old', 242, '21st Century Fox', '103001'),\n",
       " ('ACAT', 33956, 'ARCTIC CAT INC', '103005'),\n",
       " ('APIC', 34899, 'Apigee Corp', '101003')]"
      ]
     },
     "execution_count": 11,
     "metadata": {},
     "output_type": "execute_result"
    }
   ],
   "source": [
    "%sql select * from us_companies limit 3;"
   ]
  },
  {
   "cell_type": "markdown",
   "metadata": {},
   "source": [
    "Das erste Data Set mit den Namen der US Unternehmen ist nun als Datenbank Tabelle us_companies angelegt."
   ]
  },
  {
   "cell_type": "markdown",
   "metadata": {},
   "source": [
    "#### 2.2 Industrie <a name=\"Industrie\"></a>"
   ]
  },
  {
   "cell_type": "markdown",
   "metadata": {},
   "source": [
    "Um den Daten später weitere Aussagekraft zu geben kann über die simfin Website zusätzlich noch eine Industriesparte zu der Spalte IndustryId abgerufen werden und später verknüpft werden.\n",
    "\n",
    "Die Daten werden über simfin abgerufen und als Datenbank Tabelle abgelegt."
   ]
  },
  {
   "cell_type": "code",
   "execution_count": 12,
   "metadata": {},
   "outputs": [
    {
     "name": "stdout",
     "output_type": "stream",
     "text": [
      "Dataset \"industries\" on disk (17 days old).\n",
      "- Loading from disk ... Done!\n",
      "   IndustryId       Sector                    Industry\n",
      "0      100001  Industrials         Industrial Products\n",
      "1      100002  Industrials           Business Services\n",
      "2      100003  Industrials  Engineering & Construction\n",
      "3      100004  Industrials            Waste Management\n",
      "4      100005  Industrials     Industrial Distribution\n"
     ]
    }
   ],
   "source": [
    "# Download the data from the SimFin server and load into a Pandas DataFrame.\n",
    "df_industry = sf.load_industries(index = None)\n",
    "\n",
    "# Print the first rows of the data.\n",
    "print(df_industry.head()) "
   ]
  },
  {
   "cell_type": "code",
   "execution_count": 13,
   "metadata": {},
   "outputs": [],
   "source": [
    "df_industry['IndustryId']= df_industry['IndustryId'].astype('str')\n",
    "df_industry['Sector']= df_industry['Sector'].astype('str')\n",
    "df_industry['Industry']= df_industry['Industry'].astype('str')"
   ]
  },
  {
   "cell_type": "code",
   "execution_count": 14,
   "metadata": {},
   "outputs": [],
   "source": [
    "#Pandas DataFrame als Datenbank Tabelle us_companies anlegen\n",
    "df_industry.to_sql('comp_industry', conn, index=False, if_exists='replace')"
   ]
  },
  {
   "cell_type": "code",
   "execution_count": 15,
   "metadata": {},
   "outputs": [
    {
     "name": "stdout",
     "output_type": "stream",
     "text": [
      " * sqlite:///companies.db\n",
      "Done.\n"
     ]
    },
    {
     "data": {
      "text/html": [
       "<table>\n",
       "    <tr>\n",
       "        <th>IndustryId</th>\n",
       "        <th>Sector</th>\n",
       "        <th>Industry</th>\n",
       "    </tr>\n",
       "    <tr>\n",
       "        <td>100001</td>\n",
       "        <td>Industrials</td>\n",
       "        <td>Industrial Products</td>\n",
       "    </tr>\n",
       "    <tr>\n",
       "        <td>100002</td>\n",
       "        <td>Industrials</td>\n",
       "        <td>Business Services</td>\n",
       "    </tr>\n",
       "    <tr>\n",
       "        <td>100003</td>\n",
       "        <td>Industrials</td>\n",
       "        <td>Engineering &amp; Construction</td>\n",
       "    </tr>\n",
       "</table>"
      ],
      "text/plain": [
       "[('100001', 'Industrials', 'Industrial Products'),\n",
       " ('100002', 'Industrials', 'Business Services'),\n",
       " ('100003', 'Industrials', 'Engineering & Construction')]"
      ]
     },
     "execution_count": 15,
     "metadata": {},
     "output_type": "execute_result"
    }
   ],
   "source": [
    "%sql select * from comp_industry limit 3;"
   ]
  },
  {
   "cell_type": "markdown",
   "metadata": {},
   "source": [
    "Die Tabelle enthält nun eine IndustryId zur Verknüpfung, einen Sector in dem das Unternehmen tätig ist und eine \n",
    "genauere Bezeichnung der Industrie."
   ]
  },
  {
   "cell_type": "markdown",
   "metadata": {},
   "source": [
    "### 3. Data Set 2 - DBPedia <a name=\"DataSet2-DBPedia\"></a>"
   ]
  },
  {
   "cell_type": "markdown",
   "metadata": {},
   "source": [
    "Die Liste der US Unternehmen, welche im Dow Jones Industrial Average Index gelistet sind kann über einen Sparql Endpoint über DBPedia abgefragt werden."
   ]
  },
  {
   "cell_type": "code",
   "execution_count": 16,
   "metadata": {},
   "outputs": [],
   "source": [
    "from SPARQLWrapper import SPARQLWrapper, JSON, CSV, XML\n",
    "from IPython.display import HTML, display"
   ]
  },
  {
   "cell_type": "code",
   "execution_count": 17,
   "metadata": {},
   "outputs": [],
   "source": [
    "sparql = SPARQLWrapper(\"http://dbpedia.org/sparql\")"
   ]
  },
  {
   "cell_type": "markdown",
   "metadata": {},
   "source": [
    "Die Sparql Abfrage soll die Namen der Unternehmen welche im Dow Jones Index gelistet sind zurückgeben. \n",
    "Folgende Sqarql Abfrage wird verwendet:"
   ]
  },
  {
   "cell_type": "code",
   "execution_count": 18,
   "metadata": {},
   "outputs": [],
   "source": [
    "sparql.setQuery(\"\"\"\n",
    "PREFIX dbr:    <http://dbpedia.org/resource/>\n",
    "PREFIX dbo:    <http://dbpedia.org/ontology/>\n",
    "PREFIX dct:    <http://purl.org/dc/terms/>\n",
    "PREFIX owl:    <http://www.w3.org/2002/07/owl#>\n",
    "PREFIX prov:   <http://www.w3.org/ns/prov#>\n",
    "PREFIX qb:     <http://purl.org/linked-data/cube#>\n",
    "PREFIX qudt:   <http://qudt.org/vocab/unit#>\n",
    "PREFIX rdf:    <http://www.w3.org/1999/02/22-rdf-syntax-ns#>\n",
    "PREFIX rdfs:   <http://www.w3.org/2000/01/rdf-schema#>\n",
    "PREFIX schema: <http://schema.org/>\n",
    "PREFIX skos:   <http://www.w3.org/2004/02/skos/core#>\n",
    "PREFIX unit:   <http://qudt.org/vocab/unit#>\n",
    "PREFIX xsd:    <http://www.w3.org/2001/XMLSchema#>\n",
    "PREFIX sdmx:   <http://purl.org/linked-data/sdmx#>\n",
    "\n",
    "    SELECT ?name\n",
    "    WHERE {\n",
    "    ?comp dbp:tradedAs dbr:Dow_Jones_Industrial_Average.\n",
    "    ?comp rdfs:label ?name .\n",
    "    filter(lang(?name) = 'en')\n",
    "    }\n",
    "\"\"\")\n",
    "\n",
    "sparql.setReturnFormat(JSON)\n",
    "\n",
    "dowjones = sparql.query().convert()"
   ]
  },
  {
   "cell_type": "code",
   "execution_count": 19,
   "metadata": {},
   "outputs": [
    {
     "data": {
      "text/html": [
       "<table><tr><td>Boeing<td><tr><td>Caterpillar Inc.<td><tr><td>DuPont<td><tr><td>The Travelers Companies<td><tr><td>UnitedHealth Group<td><tr><td>Apple Inc.<td><tr><td>General Electric<td><tr><td>Intel<td><tr><td>Microsoft<td><tr><td>ExxonMobil<td><tr><td>IBM<td><tr><td>The Walt Disney Company<td><tr><td>American Express<td><tr><td>Goldman Sachs<td><tr><td>Verizon Communications<td><tr><td>Cisco Systems<td><tr><td>Nike, Inc.<td><tr><td>The Home Depot<td><tr><td>Visa Inc.<td><tr><td>Chevron Corporation<td><tr><td>JPMorgan Chase<td><tr><td>United Technologies<td><tr><td>The Coca-Cola Company<td><tr><td>HP SiteScope<td><tr><td>3M<td></table>"
      ],
      "text/plain": [
       "<IPython.core.display.HTML object>"
      ]
     },
     "metadata": {},
     "output_type": "display_data"
    }
   ],
   "source": [
    "tab = '<table>'\n",
    "for res in dowjones[\"results\"][\"bindings\"]:\n",
    "    tab += '<tr><td>%s<td>' % (res[\"name\"][\"value\"])\n",
    "display(HTML(tab+'</table>'))"
   ]
  },
  {
   "cell_type": "code",
   "execution_count": 20,
   "metadata": {},
   "outputs": [],
   "source": [
    "#DBPedia Daten in csv Datei laden\n",
    "f = open(\"dowjones.csv\", \"w\")\n",
    "f.write(str(\"company\\n\"))\n",
    "for res in dowjones[\"results\"][\"bindings\"]:\n",
    "    f.write(res[\"name\"][\"value\"] + \"\\n\")\n",
    "f.close()"
   ]
  },
  {
   "cell_type": "code",
   "execution_count": 21,
   "metadata": {},
   "outputs": [],
   "source": [
    "#CSV Daten in Pandas DataFrame laden\n",
    "df_dj = pandas.read_csv(\"dowjones.csv\", sep = \"\\n\")"
   ]
  },
  {
   "cell_type": "code",
   "execution_count": 22,
   "metadata": {},
   "outputs": [
    {
     "data": {
      "text/html": [
       "<div>\n",
       "<style scoped>\n",
       "    .dataframe tbody tr th:only-of-type {\n",
       "        vertical-align: middle;\n",
       "    }\n",
       "\n",
       "    .dataframe tbody tr th {\n",
       "        vertical-align: top;\n",
       "    }\n",
       "\n",
       "    .dataframe thead th {\n",
       "        text-align: right;\n",
       "    }\n",
       "</style>\n",
       "<table border=\"1\" class=\"dataframe\">\n",
       "  <thead>\n",
       "    <tr style=\"text-align: right;\">\n",
       "      <th></th>\n",
       "      <th>company</th>\n",
       "    </tr>\n",
       "  </thead>\n",
       "  <tbody>\n",
       "    <tr>\n",
       "      <th>0</th>\n",
       "      <td>Boeing</td>\n",
       "    </tr>\n",
       "    <tr>\n",
       "      <th>1</th>\n",
       "      <td>Caterpillar Inc.</td>\n",
       "    </tr>\n",
       "    <tr>\n",
       "      <th>2</th>\n",
       "      <td>DuPont</td>\n",
       "    </tr>\n",
       "    <tr>\n",
       "      <th>3</th>\n",
       "      <td>The Travelers Companies</td>\n",
       "    </tr>\n",
       "    <tr>\n",
       "      <th>4</th>\n",
       "      <td>UnitedHealth Group</td>\n",
       "    </tr>\n",
       "    <tr>\n",
       "      <th>5</th>\n",
       "      <td>Apple Inc.</td>\n",
       "    </tr>\n",
       "    <tr>\n",
       "      <th>6</th>\n",
       "      <td>General Electric</td>\n",
       "    </tr>\n",
       "    <tr>\n",
       "      <th>7</th>\n",
       "      <td>Intel</td>\n",
       "    </tr>\n",
       "    <tr>\n",
       "      <th>8</th>\n",
       "      <td>Microsoft</td>\n",
       "    </tr>\n",
       "    <tr>\n",
       "      <th>9</th>\n",
       "      <td>ExxonMobil</td>\n",
       "    </tr>\n",
       "    <tr>\n",
       "      <th>10</th>\n",
       "      <td>IBM</td>\n",
       "    </tr>\n",
       "    <tr>\n",
       "      <th>11</th>\n",
       "      <td>The Walt Disney Company</td>\n",
       "    </tr>\n",
       "    <tr>\n",
       "      <th>12</th>\n",
       "      <td>American Express</td>\n",
       "    </tr>\n",
       "    <tr>\n",
       "      <th>13</th>\n",
       "      <td>Goldman Sachs</td>\n",
       "    </tr>\n",
       "    <tr>\n",
       "      <th>14</th>\n",
       "      <td>Verizon Communications</td>\n",
       "    </tr>\n",
       "    <tr>\n",
       "      <th>15</th>\n",
       "      <td>Cisco Systems</td>\n",
       "    </tr>\n",
       "    <tr>\n",
       "      <th>16</th>\n",
       "      <td>Nike, Inc.</td>\n",
       "    </tr>\n",
       "    <tr>\n",
       "      <th>17</th>\n",
       "      <td>The Home Depot</td>\n",
       "    </tr>\n",
       "    <tr>\n",
       "      <th>18</th>\n",
       "      <td>Visa Inc.</td>\n",
       "    </tr>\n",
       "    <tr>\n",
       "      <th>19</th>\n",
       "      <td>Chevron Corporation</td>\n",
       "    </tr>\n",
       "    <tr>\n",
       "      <th>20</th>\n",
       "      <td>JPMorgan Chase</td>\n",
       "    </tr>\n",
       "    <tr>\n",
       "      <th>21</th>\n",
       "      <td>United Technologies</td>\n",
       "    </tr>\n",
       "    <tr>\n",
       "      <th>22</th>\n",
       "      <td>The Coca-Cola Company</td>\n",
       "    </tr>\n",
       "    <tr>\n",
       "      <th>23</th>\n",
       "      <td>HP SiteScope</td>\n",
       "    </tr>\n",
       "    <tr>\n",
       "      <th>24</th>\n",
       "      <td>3M</td>\n",
       "    </tr>\n",
       "  </tbody>\n",
       "</table>\n",
       "</div>"
      ],
      "text/plain": [
       "                    company\n",
       "0                    Boeing\n",
       "1          Caterpillar Inc.\n",
       "2                    DuPont\n",
       "3   The Travelers Companies\n",
       "4        UnitedHealth Group\n",
       "5                Apple Inc.\n",
       "6          General Electric\n",
       "7                     Intel\n",
       "8                 Microsoft\n",
       "9                ExxonMobil\n",
       "10                      IBM\n",
       "11  The Walt Disney Company\n",
       "12         American Express\n",
       "13            Goldman Sachs\n",
       "14   Verizon Communications\n",
       "15            Cisco Systems\n",
       "16               Nike, Inc.\n",
       "17           The Home Depot\n",
       "18                Visa Inc.\n",
       "19      Chevron Corporation\n",
       "20           JPMorgan Chase\n",
       "21      United Technologies\n",
       "22    The Coca-Cola Company\n",
       "23             HP SiteScope\n",
       "24                       3M"
      ]
     },
     "execution_count": 22,
     "metadata": {},
     "output_type": "execute_result"
    }
   ],
   "source": [
    "df_dj"
   ]
  },
  {
   "cell_type": "code",
   "execution_count": 23,
   "metadata": {},
   "outputs": [],
   "source": [
    "#Pandas DataFrame als Datenbank Tabelle dowjones anlegen\n",
    "df_dj['company']= df_dj['company'].astype('str')\n",
    "df_dj.to_sql('dowjones', conn, index=False, if_exists='replace')"
   ]
  },
  {
   "cell_type": "code",
   "execution_count": 24,
   "metadata": {},
   "outputs": [
    {
     "name": "stdout",
     "output_type": "stream",
     "text": [
      " * sqlite:///companies.db\n",
      "Done.\n"
     ]
    },
    {
     "data": {
      "text/html": [
       "<table>\n",
       "    <tr>\n",
       "        <th>company</th>\n",
       "    </tr>\n",
       "    <tr>\n",
       "        <td>Boeing</td>\n",
       "    </tr>\n",
       "    <tr>\n",
       "        <td>Caterpillar Inc.</td>\n",
       "    </tr>\n",
       "    <tr>\n",
       "        <td>DuPont</td>\n",
       "    </tr>\n",
       "</table>"
      ],
      "text/plain": [
       "[('Boeing',), ('Caterpillar Inc.',), ('DuPont',)]"
      ]
     },
     "execution_count": 24,
     "metadata": {},
     "output_type": "execute_result"
    }
   ],
   "source": [
    "%sql select * from dowjones limit 3;"
   ]
  },
  {
   "cell_type": "markdown",
   "metadata": {},
   "source": [
    "Auch das zweite Data Set ist als Datenbank Tabelle dowjones angelegt."
   ]
  },
  {
   "cell_type": "markdown",
   "metadata": {},
   "source": [
    "### 4. Datenverknüpfung über Namen <a name=\"DatenverknüpfungüberNamen\"></a>"
   ]
  },
  {
   "cell_type": "markdown",
   "metadata": {},
   "source": [
    "Beide Data Sets wurden beriets in der Company Datenbank als Tabellen angelegt. Jetzt können die beiden Tabellen über\n",
    "Company Bezeichnung verknüpft werden."
   ]
  },
  {
   "cell_type": "code",
   "execution_count": 25,
   "metadata": {},
   "outputs": [
    {
     "name": "stdout",
     "output_type": "stream",
     "text": [
      " * sqlite:///companies.db\n",
      "Done.\n"
     ]
    },
    {
     "data": {
      "text/html": [
       "<table>\n",
       "    <tr>\n",
       "        <th>Ticker</th>\n",
       "        <th>Name</th>\n",
       "        <th>company</th>\n",
       "    </tr>\n",
       "    <tr>\n",
       "        <td>DIS</td>\n",
       "        <td>The Walt Disney Company</td>\n",
       "        <td>The Walt Disney Company</td>\n",
       "    </tr>\n",
       "    <tr>\n",
       "        <td>V</td>\n",
       "        <td>VISA INC.</td>\n",
       "        <td>Visa Inc.</td>\n",
       "    </tr>\n",
       "</table>"
      ],
      "text/plain": [
       "[('DIS', 'The Walt Disney Company', 'The Walt Disney Company'),\n",
       " ('V', 'VISA INC.', 'Visa Inc.')]"
      ]
     },
     "execution_count": 25,
     "metadata": {},
     "output_type": "execute_result"
    }
   ],
   "source": [
    "%%sql select us_companies.Ticker, us_companies.Name, dowjones.company from dowjones\n",
    "join us_companies on trim(upper(dowjones.company)) = trim(upper(us_companies.Name));"
   ]
  },
  {
   "cell_type": "markdown",
   "metadata": {},
   "source": [
    "Das sind leider nicht viele Unternehmen, deren Namen in beiden Tabellen übereinstimmen auch wenn Schwierigkeiten\n",
    "mit der Groß- und Kleinschreibung und Leerzeichen mit den String Funktionen trim und upper gelöst wurden.\n",
    "\n",
    "Es wird versucht herauszufinden ob die Verknüpfung verbessert werden kann:"
   ]
  },
  {
   "cell_type": "code",
   "execution_count": 26,
   "metadata": {},
   "outputs": [
    {
     "name": "stdout",
     "output_type": "stream",
     "text": [
      " * sqlite:///companies.db\n",
      "Done.\n"
     ]
    },
    {
     "data": {
      "text/html": [
       "<table>\n",
       "    <tr>\n",
       "        <th>Ticker</th>\n",
       "        <th>Name</th>\n",
       "        <th>company</th>\n",
       "    </tr>\n",
       "    <tr>\n",
       "        <td>UTX</td>\n",
       "        <td>UNITED TECHNOLOGIES CORP /DE/</td>\n",
       "        <td>United Technologies</td>\n",
       "    </tr>\n",
       "    <tr>\n",
       "        <td>CSCO</td>\n",
       "        <td>CISCO SYSTEMS, INC.</td>\n",
       "        <td>Cisco Systems</td>\n",
       "    </tr>\n",
       "    <tr>\n",
       "        <td>AXP</td>\n",
       "        <td>AMERICAN EXPRESS CO</td>\n",
       "        <td>American Express</td>\n",
       "    </tr>\n",
       "    <tr>\n",
       "        <td>GE</td>\n",
       "        <td>GENERAL ELECTRIC CO</td>\n",
       "        <td>General Electric</td>\n",
       "    </tr>\n",
       "    <tr>\n",
       "        <td>VZ</td>\n",
       "        <td>VERIZON COMMUNICATIONS INC</td>\n",
       "        <td>Verizon Communications</td>\n",
       "    </tr>\n",
       "    <tr>\n",
       "        <td>GS</td>\n",
       "        <td>GOLDMAN SACHS GROUP INC</td>\n",
       "        <td>Goldman Sachs</td>\n",
       "    </tr>\n",
       "    <tr>\n",
       "        <td>DIS</td>\n",
       "        <td>The Walt Disney Company</td>\n",
       "        <td>The Walt Disney Company</td>\n",
       "    </tr>\n",
       "    <tr>\n",
       "        <td>CAT</td>\n",
       "        <td>CATERPILLAR INC</td>\n",
       "        <td>Caterpillar Inc.</td>\n",
       "    </tr>\n",
       "    <tr>\n",
       "        <td>JPM</td>\n",
       "        <td>JPMORGAN CHASE &amp; CO</td>\n",
       "        <td>JPMorgan Chase</td>\n",
       "    </tr>\n",
       "    <tr>\n",
       "        <td>V</td>\n",
       "        <td>VISA INC.</td>\n",
       "        <td>Visa Inc.</td>\n",
       "    </tr>\n",
       "    <tr>\n",
       "        <td>UNH</td>\n",
       "        <td>UNITEDHEALTH GROUP INC</td>\n",
       "        <td>UnitedHealth Group</td>\n",
       "    </tr>\n",
       "    <tr>\n",
       "        <td>CVX</td>\n",
       "        <td>CHEVRON CORP</td>\n",
       "        <td>Chevron Corporation</td>\n",
       "    </tr>\n",
       "</table>"
      ],
      "text/plain": [
       "[('UTX', 'UNITED TECHNOLOGIES CORP /DE/', 'United Technologies'),\n",
       " ('CSCO', 'CISCO SYSTEMS, INC.', 'Cisco Systems'),\n",
       " ('AXP', 'AMERICAN EXPRESS CO', 'American Express'),\n",
       " ('GE', 'GENERAL ELECTRIC CO', 'General Electric'),\n",
       " ('VZ', 'VERIZON COMMUNICATIONS INC', 'Verizon Communications'),\n",
       " ('GS', 'GOLDMAN SACHS GROUP INC', 'Goldman Sachs'),\n",
       " ('DIS', 'The Walt Disney Company', 'The Walt Disney Company'),\n",
       " ('CAT', 'CATERPILLAR INC', 'Caterpillar Inc.'),\n",
       " ('JPM', 'JPMORGAN CHASE & CO', 'JPMorgan Chase'),\n",
       " ('V', 'VISA INC.', 'Visa Inc.'),\n",
       " ('UNH', 'UNITEDHEALTH GROUP INC', 'UnitedHealth Group'),\n",
       " ('CVX', 'CHEVRON CORP', 'Chevron Corporation')]"
      ]
     },
     "execution_count": 26,
     "metadata": {},
     "output_type": "execute_result"
    }
   ],
   "source": [
    "%%sql select us_companies.Ticker, us_companies.Name, dowjones.company from dowjones\n",
    "left outer join us_companies on \n",
    "SUBSTR(trim(upper(dowjones.company)),0,12)=SUBSTR(trim(upper(us_companies.Name)),0,12)\n",
    "where Ticker is not null;"
   ]
  },
  {
   "cell_type": "markdown",
   "metadata": {},
   "source": [
    "Mithilfe der SQL String Funktion Substring, bei welcher nur die Zeichen 0 bis 12 verglichen werden, können mehr\n",
    "Daten aus den beiden Tabellen verknüpft werden. \n",
    "\n",
    "Probleme bei der Verknüfung bereiten offensichtlich die teils vorhandenen Kürzel (Inc, Co, Corp). "
   ]
  },
  {
   "cell_type": "markdown",
   "metadata": {},
   "source": [
    "### 5. Verknüpfung über Ticker <a name=\"VerknüpfungüberTicker\"></a>"
   ]
  },
  {
   "cell_type": "markdown",
   "metadata": {},
   "source": [
    "Um zu sehen ob über den Ticker mehr Daten verknüpft werden können, werden die DBPedia Daten um den Ticker erweitert\n",
    "und mit den bereits vorhanden verknüpften Daten verglichen.\n",
    "\n",
    "Folgende Sparql Query liefert alle Unternehmen welche im Dow Jones Industrial Average Index gelistet sind und\n",
    "ein Symbol als property in dbpedia hinterlegt haben:"
   ]
  },
  {
   "cell_type": "code",
   "execution_count": 27,
   "metadata": {},
   "outputs": [],
   "source": [
    "sparql.setQuery(\"\"\"\n",
    "PREFIX dbr:    <http://dbpedia.org/resource/>\n",
    "PREFIX dbo:    <http://dbpedia.org/ontology/>\n",
    "PREFIX dct:    <http://purl.org/dc/terms/>\n",
    "PREFIX owl:    <http://www.w3.org/2002/07/owl#>\n",
    "PREFIX prov:   <http://www.w3.org/ns/prov#>\n",
    "PREFIX qb:     <http://purl.org/linked-data/cube#>\n",
    "PREFIX qudt:   <http://qudt.org/vocab/unit#>\n",
    "PREFIX rdf:    <http://www.w3.org/1999/02/22-rdf-syntax-ns#>\n",
    "PREFIX rdfs:   <http://www.w3.org/2000/01/rdf-schema#>\n",
    "PREFIX schema: <http://schema.org/>\n",
    "PREFIX skos:   <http://www.w3.org/2004/02/skos/core#>\n",
    "PREFIX unit:   <http://qudt.org/vocab/unit#>\n",
    "PREFIX xsd:    <http://www.w3.org/2001/XMLSchema#>\n",
    "PREFIX sdmx:   <http://purl.org/linked-data/sdmx#>\n",
    "\n",
    "    SELECT ?name ?symbol\n",
    "    WHERE {\n",
    "    ?comp dbp:tradedAs dbr:Dow_Jones_Industrial_Average.\n",
    "    ?comp rdfs:label ?name .\n",
    "    filter(lang(?name) = 'en')\n",
    "    ?comp dbp:symbol ?symbol\n",
    "    }\n",
    "\"\"\")\n",
    "\n",
    "sparql.setReturnFormat(JSON)\n",
    "\n",
    "dowjones_symbol = sparql.query().convert()"
   ]
  },
  {
   "cell_type": "code",
   "execution_count": 28,
   "metadata": {},
   "outputs": [
    {
     "data": {
      "text/html": [
       "<table><tr><td>Boeing<td>BA<td><tr><td>UnitedHealth Group<td>UNH<td><tr><td>Apple Inc.<td>AAPL<td><tr><td>General Electric<td>GE<td><tr><td>Intel<td>INTC<td><tr><td>Microsoft<td>MSFT<td><tr><td>ExxonMobil<td>XOM<td><tr><td>IBM<td>IBM<td><tr><td>Goldman Sachs<td>GS<td><tr><td>Verizon Communications<td>VZ<td><tr><td>Cisco Systems<td>CSCO<td><tr><td>Chevron Corporation<td>CVX<td><tr><td>JPMorgan Chase<td>JPM<td><tr><td>The Coca-Cola Company<td>KO<td></table>"
      ],
      "text/plain": [
       "<IPython.core.display.HTML object>"
      ]
     },
     "metadata": {},
     "output_type": "display_data"
    }
   ],
   "source": [
    "tab = '<table>'\n",
    "for res in dowjones_symbol[\"results\"][\"bindings\"]:\n",
    "    tab += '<tr><td>%s<td>%s<td>' % (res[\"name\"][\"value\"],res[\"symbol\"][\"value\"])\n",
    "display(HTML(tab+'</table>'))"
   ]
  },
  {
   "cell_type": "code",
   "execution_count": 29,
   "metadata": {},
   "outputs": [],
   "source": [
    "#DBPedia Daten in csv Datei laden\n",
    "f = open(\"dowjones_symbol.csv\", \"w\")\n",
    "f.write(str(\"company;symbol\\n\"))\n",
    "for res in dowjones_symbol[\"results\"][\"bindings\"]:\n",
    "    f.write(res[\"name\"][\"value\"] + \";\" + res[\"symbol\"][\"value\"] +\"\\n\")\n",
    "f.close()"
   ]
  },
  {
   "cell_type": "code",
   "execution_count": 30,
   "metadata": {},
   "outputs": [],
   "source": [
    "#CSV Daten in Pandas DataFrame laden\n",
    "df_dj_sy = pandas.read_csv(\"dowjones_symbol.csv\", sep = \";\")"
   ]
  },
  {
   "cell_type": "code",
   "execution_count": 31,
   "metadata": {},
   "outputs": [
    {
     "data": {
      "text/html": [
       "<div>\n",
       "<style scoped>\n",
       "    .dataframe tbody tr th:only-of-type {\n",
       "        vertical-align: middle;\n",
       "    }\n",
       "\n",
       "    .dataframe tbody tr th {\n",
       "        vertical-align: top;\n",
       "    }\n",
       "\n",
       "    .dataframe thead th {\n",
       "        text-align: right;\n",
       "    }\n",
       "</style>\n",
       "<table border=\"1\" class=\"dataframe\">\n",
       "  <thead>\n",
       "    <tr style=\"text-align: right;\">\n",
       "      <th></th>\n",
       "      <th>company</th>\n",
       "      <th>symbol</th>\n",
       "    </tr>\n",
       "  </thead>\n",
       "  <tbody>\n",
       "    <tr>\n",
       "      <th>0</th>\n",
       "      <td>Boeing</td>\n",
       "      <td>BA</td>\n",
       "    </tr>\n",
       "    <tr>\n",
       "      <th>1</th>\n",
       "      <td>UnitedHealth Group</td>\n",
       "      <td>UNH</td>\n",
       "    </tr>\n",
       "    <tr>\n",
       "      <th>2</th>\n",
       "      <td>Apple Inc.</td>\n",
       "      <td>AAPL</td>\n",
       "    </tr>\n",
       "    <tr>\n",
       "      <th>3</th>\n",
       "      <td>General Electric</td>\n",
       "      <td>GE</td>\n",
       "    </tr>\n",
       "    <tr>\n",
       "      <th>4</th>\n",
       "      <td>Intel</td>\n",
       "      <td>INTC</td>\n",
       "    </tr>\n",
       "    <tr>\n",
       "      <th>5</th>\n",
       "      <td>Microsoft</td>\n",
       "      <td>MSFT</td>\n",
       "    </tr>\n",
       "    <tr>\n",
       "      <th>6</th>\n",
       "      <td>ExxonMobil</td>\n",
       "      <td>XOM</td>\n",
       "    </tr>\n",
       "    <tr>\n",
       "      <th>7</th>\n",
       "      <td>IBM</td>\n",
       "      <td>IBM</td>\n",
       "    </tr>\n",
       "    <tr>\n",
       "      <th>8</th>\n",
       "      <td>Goldman Sachs</td>\n",
       "      <td>GS</td>\n",
       "    </tr>\n",
       "    <tr>\n",
       "      <th>9</th>\n",
       "      <td>Verizon Communications</td>\n",
       "      <td>VZ</td>\n",
       "    </tr>\n",
       "    <tr>\n",
       "      <th>10</th>\n",
       "      <td>Cisco Systems</td>\n",
       "      <td>CSCO</td>\n",
       "    </tr>\n",
       "    <tr>\n",
       "      <th>11</th>\n",
       "      <td>Chevron Corporation</td>\n",
       "      <td>CVX</td>\n",
       "    </tr>\n",
       "    <tr>\n",
       "      <th>12</th>\n",
       "      <td>JPMorgan Chase</td>\n",
       "      <td>JPM</td>\n",
       "    </tr>\n",
       "    <tr>\n",
       "      <th>13</th>\n",
       "      <td>The Coca-Cola Company</td>\n",
       "      <td>KO</td>\n",
       "    </tr>\n",
       "  </tbody>\n",
       "</table>\n",
       "</div>"
      ],
      "text/plain": [
       "                   company symbol\n",
       "0                   Boeing     BA\n",
       "1       UnitedHealth Group    UNH\n",
       "2               Apple Inc.   AAPL\n",
       "3         General Electric     GE\n",
       "4                    Intel   INTC\n",
       "5                Microsoft   MSFT\n",
       "6               ExxonMobil    XOM\n",
       "7                      IBM    IBM\n",
       "8            Goldman Sachs     GS\n",
       "9   Verizon Communications     VZ\n",
       "10           Cisco Systems   CSCO\n",
       "11     Chevron Corporation    CVX\n",
       "12          JPMorgan Chase    JPM\n",
       "13   The Coca-Cola Company     KO"
      ]
     },
     "execution_count": 31,
     "metadata": {},
     "output_type": "execute_result"
    }
   ],
   "source": [
    "df_dj_sy "
   ]
  },
  {
   "cell_type": "markdown",
   "metadata": {},
   "source": [
    "Leider haben nicht alle im Dow Jones gelisteten Unternehmen ein Symbol als property hinterlegt, aber \n",
    "immerhin 14 Unternehmen.\n",
    "\n",
    "Diese werden wieder als Datenbank Tabelle angelegt.\n"
   ]
  },
  {
   "cell_type": "code",
   "execution_count": 32,
   "metadata": {},
   "outputs": [],
   "source": [
    "#Pandas DataFrame als Datenbank Tabelle dowjones_symbol anlegen\n",
    "df_dj_sy['company']= df_dj_sy['company'].astype('str')\n",
    "df_dj_sy['symbol']= df_dj_sy['symbol'].astype('str')\n",
    "df_dj_sy.to_sql('dowjones_symbol', conn, index=False, if_exists='replace')"
   ]
  },
  {
   "cell_type": "code",
   "execution_count": 33,
   "metadata": {},
   "outputs": [
    {
     "name": "stdout",
     "output_type": "stream",
     "text": [
      " * sqlite:///companies.db\n",
      "Done.\n"
     ]
    },
    {
     "data": {
      "text/html": [
       "<table>\n",
       "    <tr>\n",
       "        <th>company</th>\n",
       "        <th>symbol</th>\n",
       "    </tr>\n",
       "    <tr>\n",
       "        <td>Boeing</td>\n",
       "        <td>BA</td>\n",
       "    </tr>\n",
       "    <tr>\n",
       "        <td>UnitedHealth Group</td>\n",
       "        <td>UNH</td>\n",
       "    </tr>\n",
       "    <tr>\n",
       "        <td>Apple Inc.</td>\n",
       "        <td>AAPL</td>\n",
       "    </tr>\n",
       "    <tr>\n",
       "        <td>General Electric</td>\n",
       "        <td>GE</td>\n",
       "    </tr>\n",
       "    <tr>\n",
       "        <td>Intel</td>\n",
       "        <td>INTC</td>\n",
       "    </tr>\n",
       "    <tr>\n",
       "        <td>Microsoft</td>\n",
       "        <td>MSFT</td>\n",
       "    </tr>\n",
       "    <tr>\n",
       "        <td>ExxonMobil</td>\n",
       "        <td>XOM</td>\n",
       "    </tr>\n",
       "    <tr>\n",
       "        <td>IBM</td>\n",
       "        <td>IBM</td>\n",
       "    </tr>\n",
       "    <tr>\n",
       "        <td>Goldman Sachs</td>\n",
       "        <td>GS</td>\n",
       "    </tr>\n",
       "    <tr>\n",
       "        <td>Verizon Communications</td>\n",
       "        <td>VZ</td>\n",
       "    </tr>\n",
       "    <tr>\n",
       "        <td>Cisco Systems</td>\n",
       "        <td>CSCO</td>\n",
       "    </tr>\n",
       "    <tr>\n",
       "        <td>Chevron Corporation</td>\n",
       "        <td>CVX</td>\n",
       "    </tr>\n",
       "    <tr>\n",
       "        <td>JPMorgan Chase</td>\n",
       "        <td>JPM</td>\n",
       "    </tr>\n",
       "    <tr>\n",
       "        <td>The Coca-Cola Company</td>\n",
       "        <td>KO</td>\n",
       "    </tr>\n",
       "</table>"
      ],
      "text/plain": [
       "[('Boeing', 'BA'),\n",
       " ('UnitedHealth Group', 'UNH'),\n",
       " ('Apple Inc.', 'AAPL'),\n",
       " ('General Electric', 'GE'),\n",
       " ('Intel', 'INTC'),\n",
       " ('Microsoft', 'MSFT'),\n",
       " ('ExxonMobil', 'XOM'),\n",
       " ('IBM', 'IBM'),\n",
       " ('Goldman Sachs', 'GS'),\n",
       " ('Verizon Communications', 'VZ'),\n",
       " ('Cisco Systems', 'CSCO'),\n",
       " ('Chevron Corporation', 'CVX'),\n",
       " ('JPMorgan Chase', 'JPM'),\n",
       " ('The Coca-Cola Company', 'KO')]"
      ]
     },
     "execution_count": 33,
     "metadata": {},
     "output_type": "execute_result"
    }
   ],
   "source": [
    "%sql select * from dowjones_symbol;"
   ]
  },
  {
   "cell_type": "markdown",
   "metadata": {},
   "source": [
    "Jetzt können die Tabellen über den Tricker verknüpft werden und gleichzeitig die Industry über die IndustryId."
   ]
  },
  {
   "cell_type": "code",
   "execution_count": 34,
   "metadata": {},
   "outputs": [
    {
     "name": "stdout",
     "output_type": "stream",
     "text": [
      " * sqlite:///companies.db\n",
      "Done.\n",
      "Done.\n"
     ]
    },
    {
     "data": {
      "text/plain": [
       "[]"
      ]
     },
     "execution_count": 34,
     "metadata": {},
     "output_type": "execute_result"
    }
   ],
   "source": [
    "%%sql \n",
    "\n",
    "drop view if exists dj_companies;\n",
    "\n",
    "create view dj_companies as \n",
    "select us_companies.Ticker, us_companies.SimFinId, us_companies.Name, comp_industry.Sector, comp_industry.Industry from us_companies \n",
    "join dowjones_symbol on dowjones_symbol.symbol = us_companies.Ticker\n",
    "join comp_industry on us_companies.IndustryId = comp_industry.IndustryId;"
   ]
  },
  {
   "cell_type": "code",
   "execution_count": 35,
   "metadata": {},
   "outputs": [
    {
     "name": "stdout",
     "output_type": "stream",
     "text": [
      " * sqlite:///companies.db\n",
      "Done.\n"
     ]
    },
    {
     "data": {
      "text/html": [
       "<table>\n",
       "    <tr>\n",
       "        <th>Ticker</th>\n",
       "        <th>SimFinId</th>\n",
       "        <th>Name</th>\n",
       "        <th>Sector</th>\n",
       "        <th>Industry</th>\n",
       "    </tr>\n",
       "    <tr>\n",
       "        <td>CSCO</td>\n",
       "        <td>82202</td>\n",
       "        <td>CISCO SYSTEMS, INC.</td>\n",
       "        <td>Technology</td>\n",
       "        <td>Communication Equipment</td>\n",
       "    </tr>\n",
       "    <tr>\n",
       "        <td>INTC</td>\n",
       "        <td>85652</td>\n",
       "        <td>INTEL CORP</td>\n",
       "        <td>Technology</td>\n",
       "        <td>Semiconductors</td>\n",
       "    </tr>\n",
       "    <tr>\n",
       "        <td>IBM</td>\n",
       "        <td>69543</td>\n",
       "        <td>INTERNATIONAL BUSINESS MACHINES CORP</td>\n",
       "        <td>Technology</td>\n",
       "        <td>Application Software</td>\n",
       "    </tr>\n",
       "    <tr>\n",
       "        <td>KO</td>\n",
       "        <td>82117</td>\n",
       "        <td>COCA COLA CO</td>\n",
       "        <td>Consumer Defensive</td>\n",
       "        <td>Beverages - Non-Alcoholic</td>\n",
       "    </tr>\n",
       "    <tr>\n",
       "        <td>GE</td>\n",
       "        <td>244314</td>\n",
       "        <td>GENERAL ELECTRIC CO</td>\n",
       "        <td>Industrials</td>\n",
       "        <td>Industrial Products</td>\n",
       "    </tr>\n",
       "    <tr>\n",
       "        <td>VZ</td>\n",
       "        <td>101219</td>\n",
       "        <td>VERIZON COMMUNICATIONS INC</td>\n",
       "        <td>Business Services</td>\n",
       "        <td>Communication Services</td>\n",
       "    </tr>\n",
       "    <tr>\n",
       "        <td>MSFT</td>\n",
       "        <td>59265</td>\n",
       "        <td>MICROSOFT CORP</td>\n",
       "        <td>Technology</td>\n",
       "        <td>Application Software</td>\n",
       "    </tr>\n",
       "    <tr>\n",
       "        <td>GS</td>\n",
       "        <td>60439</td>\n",
       "        <td>GOLDMAN SACHS GROUP INC</td>\n",
       "        <td>Financial Services</td>\n",
       "        <td>Banks</td>\n",
       "    </tr>\n",
       "    <tr>\n",
       "        <td>BA</td>\n",
       "        <td>70844</td>\n",
       "        <td>BOEING CO</td>\n",
       "        <td>Industrials</td>\n",
       "        <td>Aerospace &amp; Defense</td>\n",
       "    </tr>\n",
       "    <tr>\n",
       "        <td>AAPL</td>\n",
       "        <td>111052</td>\n",
       "        <td>APPLE INC</td>\n",
       "        <td>Technology</td>\n",
       "        <td>Computer Hardware</td>\n",
       "    </tr>\n",
       "    <tr>\n",
       "        <td>JPM</td>\n",
       "        <td>243510</td>\n",
       "        <td>JPMORGAN CHASE &amp; CO</td>\n",
       "        <td>Financial Services</td>\n",
       "        <td>Banks</td>\n",
       "    </tr>\n",
       "    <tr>\n",
       "        <td>XOM</td>\n",
       "        <td>121214</td>\n",
       "        <td>EXXON MOBIL CORP</td>\n",
       "        <td>Energy</td>\n",
       "        <td>Oil &amp; Gas - Integrated</td>\n",
       "    </tr>\n",
       "    <tr>\n",
       "        <td>UNH</td>\n",
       "        <td>367714</td>\n",
       "        <td>UNITEDHEALTH GROUP INC</td>\n",
       "        <td>Healthcare</td>\n",
       "        <td>Health Care Plans</td>\n",
       "    </tr>\n",
       "    <tr>\n",
       "        <td>CVX</td>\n",
       "        <td>248396</td>\n",
       "        <td>CHEVRON CORP</td>\n",
       "        <td>Energy</td>\n",
       "        <td>Oil &amp; Gas - Integrated</td>\n",
       "    </tr>\n",
       "</table>"
      ],
      "text/plain": [
       "[('CSCO', 82202, 'CISCO SYSTEMS, INC.', 'Technology', 'Communication Equipment'),\n",
       " ('INTC', 85652, 'INTEL CORP', 'Technology', 'Semiconductors'),\n",
       " ('IBM', 69543, 'INTERNATIONAL BUSINESS MACHINES CORP', 'Technology', 'Application Software'),\n",
       " ('KO', 82117, 'COCA COLA CO', 'Consumer Defensive', 'Beverages - Non-Alcoholic'),\n",
       " ('GE', 244314, 'GENERAL ELECTRIC CO', 'Industrials', 'Industrial Products'),\n",
       " ('VZ', 101219, 'VERIZON COMMUNICATIONS INC', 'Business Services', 'Communication Services'),\n",
       " ('MSFT', 59265, 'MICROSOFT CORP', 'Technology', 'Application Software'),\n",
       " ('GS', 60439, 'GOLDMAN SACHS GROUP INC', 'Financial Services', 'Banks'),\n",
       " ('BA', 70844, 'BOEING CO', 'Industrials', 'Aerospace & Defense'),\n",
       " ('AAPL', 111052, 'APPLE INC', 'Technology', 'Computer Hardware'),\n",
       " ('JPM', 243510, 'JPMORGAN CHASE & CO', 'Financial Services', 'Banks'),\n",
       " ('XOM', 121214, 'EXXON MOBIL CORP', 'Energy', 'Oil & Gas - Integrated'),\n",
       " ('UNH', 367714, 'UNITEDHEALTH GROUP INC', 'Healthcare', 'Health Care Plans'),\n",
       " ('CVX', 248396, 'CHEVRON CORP', 'Energy', 'Oil & Gas - Integrated')]"
      ]
     },
     "execution_count": 35,
     "metadata": {},
     "output_type": "execute_result"
    }
   ],
   "source": [
    "%%sql\n",
    "select * from dj_companies"
   ]
  },
  {
   "cell_type": "markdown",
   "metadata": {},
   "source": [
    "### 6. Conclusion <a name=\"Conclusion\"></a>"
   ]
  },
  {
   "cell_type": "markdown",
   "metadata": {},
   "source": [
    "Die Abfrage des Views zeigt, dass zu allen Symbolen in der dowjones_symbol Tabelle ein Unternehmen in der us_company Tabelle über die Vernüpfung des Ticker gefunden werden konnte und eine Zuteilung der Industrie.\n",
    "\n",
    "Das Ziel wurde erreicht, auch wenn leider nicht alle Kürzel zu Unternehmen im Dow Jones über den Sparql Endpoint von DBPedia vorhanden sind, konnten alle vorhandenen Unternehmen mit einer Information zu deren Sektor und Industrie \n",
    "versehen werden."
   ]
  }
 ],
 "metadata": {
  "kernelspec": {
   "display_name": "Python 3",
   "language": "python",
   "name": "python3"
  },
  "language_info": {
   "codemirror_mode": {
    "name": "ipython",
    "version": 3
   },
   "file_extension": ".py",
   "mimetype": "text/x-python",
   "name": "python",
   "nbconvert_exporter": "python",
   "pygments_lexer": "ipython3",
   "version": "3.7.6"
  }
 },
 "nbformat": 4,
 "nbformat_minor": 4
}
